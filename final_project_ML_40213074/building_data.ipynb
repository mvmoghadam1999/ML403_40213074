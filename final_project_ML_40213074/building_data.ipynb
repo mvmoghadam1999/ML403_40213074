{
  "nbformat": 4,
  "nbformat_minor": 0,
  "metadata": {
    "colab": {
      "provenance": []
    },
    "kernelspec": {
      "name": "python3",
      "display_name": "Python 3"
    },
    "language_info": {
      "name": "python"
    }
  },
  "cells": [
    {
      "cell_type": "code",
      "execution_count": null,
      "metadata": {
        "colab": {
          "base_uri": "https://localhost:8080/"
        },
        "id": "JKPpG5I0HnLR",
        "outputId": "6eb01d76-e0aa-423a-f996-7e26c1054bd5"
      },
      "outputs": [
        {
          "output_type": "stream",
          "name": "stdout",
          "text": [
            "Requirement already satisfied: gdown in /usr/local/lib/python3.10/dist-packages (5.1.0)\n",
            "Requirement already satisfied: beautifulsoup4 in /usr/local/lib/python3.10/dist-packages (from gdown) (4.12.3)\n",
            "Requirement already satisfied: filelock in /usr/local/lib/python3.10/dist-packages (from gdown) (3.13.3)\n",
            "Requirement already satisfied: requests[socks] in /usr/local/lib/python3.10/dist-packages (from gdown) (2.31.0)\n",
            "Requirement already satisfied: tqdm in /usr/local/lib/python3.10/dist-packages (from gdown) (4.66.2)\n",
            "Requirement already satisfied: soupsieve>1.2 in /usr/local/lib/python3.10/dist-packages (from beautifulsoup4->gdown) (2.5)\n",
            "Requirement already satisfied: charset-normalizer<4,>=2 in /usr/local/lib/python3.10/dist-packages (from requests[socks]->gdown) (3.3.2)\n",
            "Requirement already satisfied: idna<4,>=2.5 in /usr/local/lib/python3.10/dist-packages (from requests[socks]->gdown) (3.6)\n",
            "Requirement already satisfied: urllib3<3,>=1.21.1 in /usr/local/lib/python3.10/dist-packages (from requests[socks]->gdown) (2.0.7)\n",
            "Requirement already satisfied: certifi>=2017.4.17 in /usr/local/lib/python3.10/dist-packages (from requests[socks]->gdown) (2024.2.2)\n",
            "Requirement already satisfied: PySocks!=1.5.7,>=1.5.6 in /usr/local/lib/python3.10/dist-packages (from requests[socks]->gdown) (1.7.1)\n"
          ]
        }
      ],
      "source": [
        "import numpy as np\n",
        "import pandas as pd\n",
        "import torch\n",
        "from torch import nn\n",
        "from PIL import Image\n",
        "from torch.utils.data import DataLoader\n",
        "from torchvision import datasets, transforms\n",
        "!pip install --upgrade --no-cache-dir gdown\n"
      ]
    },
    {
      "cell_type": "code",
      "source": [
        "!gdown 1odpfXu3Ry3dTMCKzwD8p7jFQzE6ExIqC\n",
        "!gdown 1q9NINNnDEyqzXmL2Shwl71XXpTFeq9RV"
      ],
      "metadata": {
        "colab": {
          "base_uri": "https://localhost:8080/"
        },
        "id": "9gsymcpGSU4M",
        "outputId": "daa6f6d2-fcc0-455c-df74-b70722459190"
      },
      "execution_count": null,
      "outputs": [
        {
          "output_type": "stream",
          "name": "stdout",
          "text": [
            "Downloading...\n",
            "From: https://drive.google.com/uc?id=1odpfXu3Ry3dTMCKzwD8p7jFQzE6ExIqC\n",
            "To: /content/case1.zip\n",
            "100% 87.5k/87.5k [00:00<00:00, 56.5MB/s]\n",
            "Downloading...\n",
            "From: https://drive.google.com/uc?id=1q9NINNnDEyqzXmL2Shwl71XXpTFeq9RV\n",
            "To: /content/Independent_Test_Set.zip\n",
            "100% 13.7M/13.7M [00:00<00:00, 119MB/s] \n"
          ]
        }
      ]
    },
    {
      "cell_type": "code",
      "source": [
        "import matplotlib.pyplot as plt\n",
        "import zipfile\n",
        "from pathlib import Path\n",
        "with zipfile.ZipFile(\"case1.zip\", \"r\") as zip_ref:\n",
        "    print(\"Unzipping data...\")\n",
        "    zip_ref.extractall(\"case1\")\n",
        "\n"
      ],
      "metadata": {
        "colab": {
          "base_uri": "https://localhost:8080/"
        },
        "id": "5-0dhrnrVFgG",
        "outputId": "fe435c96-5a75-4227-c98a-86106c8e9bfb"
      },
      "execution_count": null,
      "outputs": [
        {
          "output_type": "stream",
          "name": "stdout",
          "text": [
            "Unzipping data...\n"
          ]
        }
      ]
    },
    {
      "cell_type": "code",
      "source": [
        "def count_folders(folder_path):\n",
        "    folder_count = 0\n",
        "    for item in os.listdir(folder_path):\n",
        "        item_path = os.path.join(folder_path, item)\n",
        "        if os.path.isdir(item_path):\n",
        "            folder_count += 1\n",
        "\n",
        "    return folder_count"
      ],
      "metadata": {
        "id": "_LiopN6obEap"
      },
      "execution_count": null,
      "outputs": []
    },
    {
      "cell_type": "code",
      "source": [
        "import os\n",
        "import cv2\n",
        "folder_path = \"/content/case1/case1\"\n",
        "def together_pictures(root_folder , case_folder):\n",
        "  nested_folder_path = os.path.join(root_folder, case_folder)\n",
        "  images = []\n",
        "  for filename in os.listdir(nested_folder_path):\n",
        "      if filename.endswith(('.png', '.jpg', '.jpeg')):\n",
        "          img = cv2.imread(os.path.join(nested_folder_path, filename))\n",
        "          if img is not None:\n",
        "              images.append(img)\n",
        "  if images:  # Check if images list is not empty\n",
        "    # Convert the numpy array to PIL Image\n",
        "      image0 = Image.fromarray(images[0])\n",
        "      image1 = Image.fromarray(images[1])\n",
        "      image2 = Image.fromarray(images[2])\n",
        "      image3 = Image.fromarray(images[3])\n",
        "      image4 = Image.fromarray(images[4])\n",
        "      image5 = Image.fromarray(images[5])\n",
        "      image6 = Image.fromarray(images[6])\n",
        "  width, height = 300, 300\n",
        "  image0 = image0.resize((width, height))\n",
        "  image1 = image1.resize((width, height))\n",
        "  image2 = image2.resize((width, height))\n",
        "  image3 = image3.resize((width, height))\n",
        "  image4 = image4.resize((width, height))\n",
        "  image5 = image5.resize((width, height))\n",
        "  image6 = image6.resize((width, height))\n",
        "  new_image = Image.new('RGB', (3*width, 3*height))\n",
        "  new_image.paste(image0, (0, 0))\n",
        "  new_image.paste(image1, (width, 0))\n",
        "  new_image.paste(image2, (2*width, 0))\n",
        "  new_image.paste(image3, (0, height))\n",
        "  new_image.paste(image4, (width, height))\n",
        "  new_image.paste(image5, (2*width, height))\n",
        "  new_image.paste(image6, (0, 2*height))\n",
        "  return new_image\n",
        "\n"
      ],
      "metadata": {
        "id": "vcv1wuzJZWzE"
      },
      "execution_count": null,
      "outputs": []
    },
    {
      "cell_type": "code",
      "source": [
        "def images_to_list(root_folder):\n",
        "  num_cases = count_folders(root_folder)\n",
        "  case_num = []\n",
        "  image_case = []\n",
        "  for i in range(num_cases):\n",
        "    case_num.append(f\"case{i+1}\")\n",
        "    image_case.append(together_pictures(root_folder = root_folder , case_folder = f\"{case_num[i]}\"))\n",
        "  return image_case\n",
        "kc_test_cases = images_to_list(root_folder = '/content/Independent_Test_Set/Independent Test Set/Independent Test Set/Keratoconus')\n",
        "normal_test_cases = images_to_list(root_folder = '/content/Independent_Test_Set/Independent Test Set/Independent Test Set/Normal')\n",
        "suspect_test_cases = images_to_list(root_folder = '/content/Independent_Test_Set/Independent Test Set/Independent Test Set/Suspect')"
      ],
      "metadata": {
        "id": "tITLrn1dwEPW"
      },
      "execution_count": null,
      "outputs": []
    },
    {
      "cell_type": "code",
      "source": [
        "data_transform = transforms.Compose([\n",
        "    # Resize the images to 64x64\n",
        "    transforms.Resize(size=(64, 64)),\n",
        "    # Flip the images randomly on the horizontal\n",
        "    transforms.RandomHorizontalFlip(p=0.5), # p = probability of flip, 0.5 = 50% chance\n",
        "    # Turn the image into a torch.Tensor\n",
        "    transforms.ToTensor() # this also converts all pixel values from 0 to 255 to be between 0.0 and 1.0\n",
        "])\n",
        "def transforming(data_cases):\n",
        "  list_transformed = []\n",
        "  for i in range(len(data_cases)):\n",
        "\n",
        "    list_transformed.append(data_transform(data_cases[i]).permute(1 , 2 , 0))\n",
        "  return list_transformed\n",
        "transformed_test_kc = transforming(kc_test_cases)\n",
        "transformed_test_normal = transforming(normal_test_cases)\n",
        "transformed_test_suspect = transforming(suspect_test_cases)\n",
        "ones = []\n",
        "for i in range(64):\n",
        "  ones.append(1)\n",
        "ones = torch.Tensor(ones)\n",
        "ones.reshape(64 , 1)\n",
        "transformed_test_suspect[1].type\n",
        "\n",
        "\n"
      ],
      "metadata": {
        "colab": {
          "base_uri": "https://localhost:8080/"
        },
        "id": "hYKRlloj41AY",
        "outputId": "5101d362-7d62-4e3e-873d-14b75170a2ca"
      },
      "execution_count": null,
      "outputs": [
        {
          "output_type": "execute_result",
          "data": {
            "text/plain": [
              "<function Tensor.type>"
            ]
          },
          "metadata": {},
          "execution_count": 74
        }
      ]
    },
    {
      "cell_type": "code",
      "source": [
        "def unzip_file(zip_file_name):\n",
        "  with zipfile.ZipFile(\"zip_file_name.zip\", \"r\") as zip_ref:\n",
        "    print(\"Unzipping file...\")\n",
        "    zip_ref.extractall(\"test_dataset\")\n"
      ],
      "metadata": {
        "id": "brnzg3HNoptA"
      },
      "execution_count": null,
      "outputs": []
    },
    {
      "cell_type": "code",
      "source": [
        "  with zipfile.ZipFile(\"Independent_Test_Set.zip\", \"r\") as zip_ref:\n",
        "    print(\"Unzipping file...\")\n",
        "    zip_ref.extractall(\"test_dataset\")\n",
        "\n"
      ],
      "metadata": {
        "colab": {
          "base_uri": "https://localhost:8080/"
        },
        "id": "zyd9tKZtrY7z",
        "outputId": "2f29f621-cb10-45d4-90c1-a9aa4d337588"
      },
      "execution_count": null,
      "outputs": [
        {
          "output_type": "stream",
          "name": "stdout",
          "text": [
            "Unzipping file...\n"
          ]
        }
      ]
    },
    {
      "cell_type": "code",
      "source": [
        "!gdown 1rcWdghBe6sEjE54HMX8Mf_77IADFQqFe\n",
        "!gdown 1h7qeCcn3VwA0uIjLqduRym8G5FD9OrGX"
      ],
      "metadata": {
        "colab": {
          "base_uri": "https://localhost:8080/"
        },
        "id": "uY-pGXkvT6In",
        "outputId": "02f399c0-eff7-4092-a97e-eaaa99ddbb06"
      },
      "execution_count": null,
      "outputs": [
        {
          "output_type": "stream",
          "name": "stdout",
          "text": [
            "Downloading...\n",
            "From (original): https://drive.google.com/uc?id=1rcWdghBe6sEjE54HMX8Mf_77IADFQqFe\n",
            "From (redirected): https://drive.google.com/uc?id=1rcWdghBe6sEjE54HMX8Mf_77IADFQqFe&confirm=t&uuid=c23ae2ae-017e-4fe0-b276-73c9022d438e\n",
            "To: /content/train_data_pr1.zip\n",
            "100% 37.3M/37.3M [00:00<00:00, 100MB/s]\n",
            "Downloading...\n",
            "From: https://drive.google.com/uc?id=1h7qeCcn3VwA0uIjLqduRym8G5FD9OrGX\n",
            "To: /content/test_data_pr1.zip\n",
            "100% 13.4M/13.4M [00:00<00:00, 69.0MB/s]\n"
          ]
        }
      ]
    },
    {
      "cell_type": "code",
      "source": [
        "with zipfile.ZipFile(\"train_data_pr1.zip\", \"r\") as zip_ref:\n",
        "  print(\"Unzipping file...\")\n",
        "  zip_ref.extractall(\"train_data_pic\")"
      ],
      "metadata": {
        "colab": {
          "base_uri": "https://localhost:8080/"
        },
        "id": "Ay4pwO0CUrF9",
        "outputId": "cca51881-36dc-49f4-87e5-bbc7b9ac8a13"
      },
      "execution_count": null,
      "outputs": [
        {
          "output_type": "stream",
          "name": "stdout",
          "text": [
            "Unzipping file...\n"
          ]
        }
      ]
    },
    {
      "cell_type": "code",
      "source": [
        "train_data = datasets.ImageFolder(root='train_data_pic/train_data_pr1', # target folder of images\n",
        "                                  transform=data_transform, # transforms to perform on data (images)\n",
        "                                  target_transform=None) # transforms to perform on labels (if necessary)\n"
      ],
      "metadata": {
        "colab": {
          "base_uri": "https://localhost:8080/"
        },
        "id": "n-JtjWInVOzs",
        "outputId": "f1e3258e-a3bd-4956-a344-4a497130827b"
      },
      "execution_count": null,
      "outputs": [
        {
          "output_type": "stream",
          "name": "stdout",
          "text": [
            "Image tensor:\n",
            "tensor([[[0.9412, 0.9412, 0.9412,  ..., 0.9412, 0.9412, 0.9412],\n",
            "         [0.9412, 0.9412, 0.9412,  ..., 0.9412, 0.9412, 0.9412],\n",
            "         [0.9412, 0.9412, 0.9412,  ..., 0.9412, 0.9412, 0.9412],\n",
            "         ...,\n",
            "         [0.9412, 0.9412, 0.9412,  ..., 0.9412, 0.9412, 0.9412],\n",
            "         [0.9412, 0.9412, 0.9412,  ..., 0.9412, 0.9412, 0.9412],\n",
            "         [0.9412, 0.9412, 0.9412,  ..., 0.9412, 0.9412, 0.9412]],\n",
            "\n",
            "        [[0.9412, 0.9412, 0.9412,  ..., 0.9412, 0.9412, 0.9412],\n",
            "         [0.9412, 0.9412, 0.9412,  ..., 0.9412, 0.9412, 0.9412],\n",
            "         [0.9412, 0.9412, 0.9412,  ..., 0.9412, 0.9412, 0.9412],\n",
            "         ...,\n",
            "         [0.9412, 0.9412, 0.9412,  ..., 0.9412, 0.9412, 0.9412],\n",
            "         [0.9412, 0.9412, 0.9412,  ..., 0.9412, 0.9412, 0.9412],\n",
            "         [0.9412, 0.9412, 0.9412,  ..., 0.9412, 0.9412, 0.9412]],\n",
            "\n",
            "        [[0.9412, 0.9412, 0.9412,  ..., 0.9412, 0.9412, 0.9412],\n",
            "         [0.9412, 0.9412, 0.9412,  ..., 0.9412, 0.9412, 0.9412],\n",
            "         [0.9412, 0.9412, 0.9412,  ..., 0.9412, 0.9412, 0.9412],\n",
            "         ...,\n",
            "         [0.9412, 0.9412, 0.9412,  ..., 0.9412, 0.9412, 0.9412],\n",
            "         [0.9412, 0.9412, 0.9412,  ..., 0.9412, 0.9412, 0.9412],\n",
            "         [0.9412, 0.9412, 0.9412,  ..., 0.9412, 0.9412, 0.9412]]])\n",
            "Image shape: torch.Size([3, 64, 64])\n",
            "Image datatype: torch.float32\n",
            "Image label: 0\n",
            "Label datatype: <class 'int'>\n"
          ]
        }
      ]
    },
    {
      "cell_type": "code",
      "source": [
        "\n",
        "import shutil\n",
        "\n",
        "!mkdir test_data_KC\n",
        "\n",
        "image_list = kc_test_cases\n",
        "\n",
        "# Folder path to save images\n",
        "folder_path = \"/content/test_data_KC\"\n",
        "os.makedirs(folder_path, exist_ok=True)\n",
        "\n",
        "for i, image in enumerate(image_list):\n",
        "\n",
        "    image.save(os.path.join(folder_path, f\"case{i+1}.jpg\"))\n",
        "shutil.make_archive('test_data3', 'zip', '/content/test_data_KC')\n",
        "\n",
        "from google.colab import files\n",
        "files.download('test_data3.zip')"
      ],
      "metadata": {
        "id": "wVnxm5Nkiq-X",
        "colab": {
          "base_uri": "https://localhost:8080/",
          "height": 35
        },
        "outputId": "7aea4137-22f0-401f-9866-10a3906967ce"
      },
      "execution_count": null,
      "outputs": [
        {
          "output_type": "stream",
          "name": "stdout",
          "text": [
            "mkdir: cannot create directory ‘test_data_KC’: File exists\n"
          ]
        },
        {
          "output_type": "display_data",
          "data": {
            "text/plain": [
              "<IPython.core.display.Javascript object>"
            ],
            "application/javascript": [
              "\n",
              "    async function download(id, filename, size) {\n",
              "      if (!google.colab.kernel.accessAllowed) {\n",
              "        return;\n",
              "      }\n",
              "      const div = document.createElement('div');\n",
              "      const label = document.createElement('label');\n",
              "      label.textContent = `Downloading \"${filename}\": `;\n",
              "      div.appendChild(label);\n",
              "      const progress = document.createElement('progress');\n",
              "      progress.max = size;\n",
              "      div.appendChild(progress);\n",
              "      document.body.appendChild(div);\n",
              "\n",
              "      const buffers = [];\n",
              "      let downloaded = 0;\n",
              "\n",
              "      const channel = await google.colab.kernel.comms.open(id);\n",
              "      // Send a message to notify the kernel that we're ready.\n",
              "      channel.send({})\n",
              "\n",
              "      for await (const message of channel.messages) {\n",
              "        // Send a message to notify the kernel that we're ready.\n",
              "        channel.send({})\n",
              "        if (message.buffers) {\n",
              "          for (const buffer of message.buffers) {\n",
              "            buffers.push(buffer);\n",
              "            downloaded += buffer.byteLength;\n",
              "            progress.value = downloaded;\n",
              "          }\n",
              "        }\n",
              "      }\n",
              "      const blob = new Blob(buffers, {type: 'application/binary'});\n",
              "      const a = document.createElement('a');\n",
              "      a.href = window.URL.createObjectURL(blob);\n",
              "      a.download = filename;\n",
              "      div.appendChild(a);\n",
              "      a.click();\n",
              "      div.remove();\n",
              "    }\n",
              "  "
            ]
          },
          "metadata": {}
        },
        {
          "output_type": "display_data",
          "data": {
            "text/plain": [
              "<IPython.core.display.Javascript object>"
            ],
            "application/javascript": [
              "download(\"download_7e6806af-c511-40cc-8974-666e7c2a40d3\", \"test_data3.zip\", 6130757)"
            ]
          },
          "metadata": {}
        }
      ]
    },
    {
      "cell_type": "code",
      "source": [
        "import shutil\n",
        "\n",
        "!mkdir test_data_normal\n",
        "\n",
        "image_list = normal_test_cases\n",
        "\n",
        "# Folder path to save images\n",
        "folder_path = \"/content/test_data_normal\"\n",
        "os.makedirs(folder_path, exist_ok=True)\n",
        "\n",
        "for i, image in enumerate(image_list):\n",
        "\n",
        "    image.save(os.path.join(folder_path, f\"case{i+1}.jpg\"))\n",
        "shutil.make_archive('test_data_n', 'zip', '/content/test_data_normal')\n",
        "\n",
        "from google.colab import files\n",
        "files.download('test_data_n.zip')"
      ],
      "metadata": {
        "colab": {
          "base_uri": "https://localhost:8080/",
          "height": 17
        },
        "id": "ffcit9DDt647",
        "outputId": "74d2f6cb-2552-4b05-ad56-b1db36f43061"
      },
      "execution_count": null,
      "outputs": [
        {
          "output_type": "display_data",
          "data": {
            "text/plain": [
              "<IPython.core.display.Javascript object>"
            ],
            "application/javascript": [
              "\n",
              "    async function download(id, filename, size) {\n",
              "      if (!google.colab.kernel.accessAllowed) {\n",
              "        return;\n",
              "      }\n",
              "      const div = document.createElement('div');\n",
              "      const label = document.createElement('label');\n",
              "      label.textContent = `Downloading \"${filename}\": `;\n",
              "      div.appendChild(label);\n",
              "      const progress = document.createElement('progress');\n",
              "      progress.max = size;\n",
              "      div.appendChild(progress);\n",
              "      document.body.appendChild(div);\n",
              "\n",
              "      const buffers = [];\n",
              "      let downloaded = 0;\n",
              "\n",
              "      const channel = await google.colab.kernel.comms.open(id);\n",
              "      // Send a message to notify the kernel that we're ready.\n",
              "      channel.send({})\n",
              "\n",
              "      for await (const message of channel.messages) {\n",
              "        // Send a message to notify the kernel that we're ready.\n",
              "        channel.send({})\n",
              "        if (message.buffers) {\n",
              "          for (const buffer of message.buffers) {\n",
              "            buffers.push(buffer);\n",
              "            downloaded += buffer.byteLength;\n",
              "            progress.value = downloaded;\n",
              "          }\n",
              "        }\n",
              "      }\n",
              "      const blob = new Blob(buffers, {type: 'application/binary'});\n",
              "      const a = document.createElement('a');\n",
              "      a.href = window.URL.createObjectURL(blob);\n",
              "      a.download = filename;\n",
              "      div.appendChild(a);\n",
              "      a.click();\n",
              "      div.remove();\n",
              "    }\n",
              "  "
            ]
          },
          "metadata": {}
        },
        {
          "output_type": "display_data",
          "data": {
            "text/plain": [
              "<IPython.core.display.Javascript object>"
            ],
            "application/javascript": [
              "download(\"download_09dd36c8-6169-4d7c-bcb4-56b642d30b6d\", \"test_data_n.zip\", 5883175)"
            ]
          },
          "metadata": {}
        }
      ]
    },
    {
      "cell_type": "code",
      "source": [
        "import shutil\n",
        "\n",
        "!mkdir test_data_sus\n",
        "\n",
        "image_list = suspect_test_cases\n",
        "\n",
        "# Folder path to save images\n",
        "folder_path = \"/content/test_data_sus\"\n",
        "os.makedirs(folder_path, exist_ok=True)\n",
        "\n",
        "for i, image in enumerate(image_list):\n",
        "\n",
        "    image.save(os.path.join(folder_path, f\"case{i+1}.jpg\"))\n",
        "shutil.make_archive('test_data_s', 'zip', '/content/test_data_sus')\n",
        "\n",
        "from google.colab import files\n",
        "files.download('test_data_s.zip')"
      ],
      "metadata": {
        "colab": {
          "base_uri": "https://localhost:8080/",
          "height": 17
        },
        "id": "XzD-T_q5vqHB",
        "outputId": "2c2faff8-a6cd-46c6-8397-b5e8a423dda9"
      },
      "execution_count": null,
      "outputs": [
        {
          "output_type": "display_data",
          "data": {
            "text/plain": [
              "<IPython.core.display.Javascript object>"
            ],
            "application/javascript": [
              "\n",
              "    async function download(id, filename, size) {\n",
              "      if (!google.colab.kernel.accessAllowed) {\n",
              "        return;\n",
              "      }\n",
              "      const div = document.createElement('div');\n",
              "      const label = document.createElement('label');\n",
              "      label.textContent = `Downloading \"${filename}\": `;\n",
              "      div.appendChild(label);\n",
              "      const progress = document.createElement('progress');\n",
              "      progress.max = size;\n",
              "      div.appendChild(progress);\n",
              "      document.body.appendChild(div);\n",
              "\n",
              "      const buffers = [];\n",
              "      let downloaded = 0;\n",
              "\n",
              "      const channel = await google.colab.kernel.comms.open(id);\n",
              "      // Send a message to notify the kernel that we're ready.\n",
              "      channel.send({})\n",
              "\n",
              "      for await (const message of channel.messages) {\n",
              "        // Send a message to notify the kernel that we're ready.\n",
              "        channel.send({})\n",
              "        if (message.buffers) {\n",
              "          for (const buffer of message.buffers) {\n",
              "            buffers.push(buffer);\n",
              "            downloaded += buffer.byteLength;\n",
              "            progress.value = downloaded;\n",
              "          }\n",
              "        }\n",
              "      }\n",
              "      const blob = new Blob(buffers, {type: 'application/binary'});\n",
              "      const a = document.createElement('a');\n",
              "      a.href = window.URL.createObjectURL(blob);\n",
              "      a.download = filename;\n",
              "      div.appendChild(a);\n",
              "      a.click();\n",
              "      div.remove();\n",
              "    }\n",
              "  "
            ]
          },
          "metadata": {}
        },
        {
          "output_type": "display_data",
          "data": {
            "text/plain": [
              "<IPython.core.display.Javascript object>"
            ],
            "application/javascript": [
              "download(\"download_b3ec0fe7-a14e-40ac-9d80-ff0cde4ff4ba\", \"test_data_s.zip\", 5938222)"
            ]
          },
          "metadata": {}
        }
      ]
    },
    {
      "cell_type": "code",
      "source": [
        "kc_train_cases = images_to_list(root_folder = '/content/train_data_pic/train_data_pr1/Keratoconus')\n",
        "normal_train_cases = images_to_list(root_folder = '/content/train_data_pic/train_data_pr1/Normal')\n",
        "suspect_train_cases = images_to_list(root_folder = '/content/train_data_pic/train_data_pr1/Suspect')"
      ],
      "metadata": {
        "id": "nwgaFqOhzC4F"
      },
      "execution_count": null,
      "outputs": []
    },
    {
      "cell_type": "code",
      "source": [
        "import shutil\n",
        "\n",
        "!mkdir train_data_KC\n",
        "\n",
        "image_list = kc_train_cases\n",
        "\n",
        "# Folder path to save images\n",
        "folder_path = \"/content/train_data_KC\"\n",
        "os.makedirs(folder_path, exist_ok=True)\n",
        "\n",
        "for i, image in enumerate(image_list):\n",
        "\n",
        "    image.save(os.path.join(folder_path, f\"case{i+1}.jpg\"))\n",
        "shutil.make_archive('train_data_k', 'zip', '/content/train_data_KC')\n",
        "\n",
        "from google.colab import files\n",
        "files.download('train_data_k.zip')"
      ],
      "metadata": {
        "colab": {
          "base_uri": "https://localhost:8080/",
          "height": 17
        },
        "id": "Aw0TqwBRCLGH",
        "outputId": "70f023c3-4b2b-4d38-8639-e73c0ccf697f"
      },
      "execution_count": null,
      "outputs": [
        {
          "output_type": "display_data",
          "data": {
            "text/plain": [
              "<IPython.core.display.Javascript object>"
            ],
            "application/javascript": [
              "\n",
              "    async function download(id, filename, size) {\n",
              "      if (!google.colab.kernel.accessAllowed) {\n",
              "        return;\n",
              "      }\n",
              "      const div = document.createElement('div');\n",
              "      const label = document.createElement('label');\n",
              "      label.textContent = `Downloading \"${filename}\": `;\n",
              "      div.appendChild(label);\n",
              "      const progress = document.createElement('progress');\n",
              "      progress.max = size;\n",
              "      div.appendChild(progress);\n",
              "      document.body.appendChild(div);\n",
              "\n",
              "      const buffers = [];\n",
              "      let downloaded = 0;\n",
              "\n",
              "      const channel = await google.colab.kernel.comms.open(id);\n",
              "      // Send a message to notify the kernel that we're ready.\n",
              "      channel.send({})\n",
              "\n",
              "      for await (const message of channel.messages) {\n",
              "        // Send a message to notify the kernel that we're ready.\n",
              "        channel.send({})\n",
              "        if (message.buffers) {\n",
              "          for (const buffer of message.buffers) {\n",
              "            buffers.push(buffer);\n",
              "            downloaded += buffer.byteLength;\n",
              "            progress.value = downloaded;\n",
              "          }\n",
              "        }\n",
              "      }\n",
              "      const blob = new Blob(buffers, {type: 'application/binary'});\n",
              "      const a = document.createElement('a');\n",
              "      a.href = window.URL.createObjectURL(blob);\n",
              "      a.download = filename;\n",
              "      div.appendChild(a);\n",
              "      a.click();\n",
              "      div.remove();\n",
              "    }\n",
              "  "
            ]
          },
          "metadata": {}
        },
        {
          "output_type": "display_data",
          "data": {
            "text/plain": [
              "<IPython.core.display.Javascript object>"
            ],
            "application/javascript": [
              "download(\"download_5f9efff4-bbc1-4a73-a79e-3c49cf7d89b7\", \"train_data_k.zip\", 18676160)"
            ]
          },
          "metadata": {}
        }
      ]
    },
    {
      "cell_type": "code",
      "source": [
        "import shutil\n",
        "\n",
        "!mkdir train_data_normal\n",
        "\n",
        "image_list = normal_train_cases\n",
        "\n",
        "# Folder path to save images\n",
        "folder_path = \"/content/train_data_normal\"\n",
        "os.makedirs(folder_path, exist_ok=True)\n",
        "\n",
        "for i, image in enumerate(image_list):\n",
        "\n",
        "    image.save(os.path.join(folder_path, f\"case{i+1}.jpg\"))\n",
        "shutil.make_archive('train_data_n', 'zip', '/content/train_data_normal')\n",
        "\n",
        "from google.colab import files\n",
        "files.download('train_data_n.zip')"
      ],
      "metadata": {
        "colab": {
          "base_uri": "https://localhost:8080/",
          "height": 17
        },
        "id": "c22ayUvfDi-N",
        "outputId": "d80766fc-6889-4381-ce99-b4b53dde0788"
      },
      "execution_count": null,
      "outputs": [
        {
          "output_type": "display_data",
          "data": {
            "text/plain": [
              "<IPython.core.display.Javascript object>"
            ],
            "application/javascript": [
              "\n",
              "    async function download(id, filename, size) {\n",
              "      if (!google.colab.kernel.accessAllowed) {\n",
              "        return;\n",
              "      }\n",
              "      const div = document.createElement('div');\n",
              "      const label = document.createElement('label');\n",
              "      label.textContent = `Downloading \"${filename}\": `;\n",
              "      div.appendChild(label);\n",
              "      const progress = document.createElement('progress');\n",
              "      progress.max = size;\n",
              "      div.appendChild(progress);\n",
              "      document.body.appendChild(div);\n",
              "\n",
              "      const buffers = [];\n",
              "      let downloaded = 0;\n",
              "\n",
              "      const channel = await google.colab.kernel.comms.open(id);\n",
              "      // Send a message to notify the kernel that we're ready.\n",
              "      channel.send({})\n",
              "\n",
              "      for await (const message of channel.messages) {\n",
              "        // Send a message to notify the kernel that we're ready.\n",
              "        channel.send({})\n",
              "        if (message.buffers) {\n",
              "          for (const buffer of message.buffers) {\n",
              "            buffers.push(buffer);\n",
              "            downloaded += buffer.byteLength;\n",
              "            progress.value = downloaded;\n",
              "          }\n",
              "        }\n",
              "      }\n",
              "      const blob = new Blob(buffers, {type: 'application/binary'});\n",
              "      const a = document.createElement('a');\n",
              "      a.href = window.URL.createObjectURL(blob);\n",
              "      a.download = filename;\n",
              "      div.appendChild(a);\n",
              "      a.click();\n",
              "      div.remove();\n",
              "    }\n",
              "  "
            ]
          },
          "metadata": {}
        },
        {
          "output_type": "display_data",
          "data": {
            "text/plain": [
              "<IPython.core.display.Javascript object>"
            ],
            "application/javascript": [
              "download(\"download_7b20dcbf-60e9-402d-b8dc-26cc7c434976\", \"train_data_n.zip\", 17531228)"
            ]
          },
          "metadata": {}
        }
      ]
    },
    {
      "cell_type": "code",
      "source": [
        "import shutil\n",
        "\n",
        "!mkdir train_data_sus\n",
        "\n",
        "image_list = suspect_train_cases\n",
        "\n",
        "# Folder path to save images\n",
        "folder_path = \"/content/train_data_sus\"\n",
        "os.makedirs(folder_path, exist_ok=True)\n",
        "\n",
        "for i, image in enumerate(image_list):\n",
        "\n",
        "    image.save(os.path.join(folder_path, f\"case{i+1}.jpg\"))\n",
        "shutil.make_archive('train_data_s', 'zip', '/content/train_data_sus')\n",
        "\n",
        "from google.colab import files\n",
        "files.download('train_data_s.zip')"
      ],
      "metadata": {
        "colab": {
          "base_uri": "https://localhost:8080/",
          "height": 34
        },
        "id": "GIaxhCIhFDCS",
        "outputId": "9c7b532f-a204-46c7-969f-9c04b5a5113c"
      },
      "execution_count": null,
      "outputs": [
        {
          "output_type": "display_data",
          "data": {
            "text/plain": [
              "<IPython.core.display.Javascript object>"
            ],
            "application/javascript": [
              "\n",
              "    async function download(id, filename, size) {\n",
              "      if (!google.colab.kernel.accessAllowed) {\n",
              "        return;\n",
              "      }\n",
              "      const div = document.createElement('div');\n",
              "      const label = document.createElement('label');\n",
              "      label.textContent = `Downloading \"${filename}\": `;\n",
              "      div.appendChild(label);\n",
              "      const progress = document.createElement('progress');\n",
              "      progress.max = size;\n",
              "      div.appendChild(progress);\n",
              "      document.body.appendChild(div);\n",
              "\n",
              "      const buffers = [];\n",
              "      let downloaded = 0;\n",
              "\n",
              "      const channel = await google.colab.kernel.comms.open(id);\n",
              "      // Send a message to notify the kernel that we're ready.\n",
              "      channel.send({})\n",
              "\n",
              "      for await (const message of channel.messages) {\n",
              "        // Send a message to notify the kernel that we're ready.\n",
              "        channel.send({})\n",
              "        if (message.buffers) {\n",
              "          for (const buffer of message.buffers) {\n",
              "            buffers.push(buffer);\n",
              "            downloaded += buffer.byteLength;\n",
              "            progress.value = downloaded;\n",
              "          }\n",
              "        }\n",
              "      }\n",
              "      const blob = new Blob(buffers, {type: 'application/binary'});\n",
              "      const a = document.createElement('a');\n",
              "      a.href = window.URL.createObjectURL(blob);\n",
              "      a.download = filename;\n",
              "      div.appendChild(a);\n",
              "      a.click();\n",
              "      div.remove();\n",
              "    }\n",
              "  "
            ]
          },
          "metadata": {}
        },
        {
          "output_type": "display_data",
          "data": {
            "text/plain": [
              "<IPython.core.display.Javascript object>"
            ],
            "application/javascript": [
              "download(\"download_3e4d042d-000a-4372-874c-6eb44c6d7271\", \"train_data_s.zip\", 14631262)"
            ]
          },
          "metadata": {}
        }
      ]
    }
  ]
}